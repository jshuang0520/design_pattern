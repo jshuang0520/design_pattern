{
 "cells": [
  {
   "cell_type": "markdown",
   "metadata": {},
   "source": [
    "## [Python Factory 工廠方法](https://blog.csdn.net/u011654843/article/details/99692401?depth_1-utm_source=distribute.pc_relevant.none-task&utm_source=distribute.pc_relevant.none-task)"
   ]
  },
  {
   "cell_type": "markdown",
   "metadata": {},
   "source": [
    "### 工廠的意義\n",
    "\n",
    "模擬現實工廠，通過“工廠”獲取“產品”，用戶只需通過固定的接口獲得一個對象的實例。降低了維護的複雜性。\n",
    "\n",
    "下面我將對無工廠方式，簡單工廠方式，工廠方式，抽象工廠方式進行對比與分析。"
   ]
  },
  {
   "cell_type": "code",
   "execution_count": null,
   "metadata": {},
   "outputs": [],
   "source": []
  },
  {
   "cell_type": "markdown",
   "metadata": {},
   "source": [
    "### 無工廠"
   ]
  },
  {
   "cell_type": "markdown",
   "metadata": {},
   "source": [
    "#### 優缺點\n",
    "\n",
    "> 缺點 : 但現實中，你可能會面對很多產品，而且每個產品的構造參數還不一樣，這樣在創建實例時會遇到麻煩。\n",
    "\n",
    "> 優點 : 簡單易懂，初學者適用"
   ]
  },
  {
   "cell_type": "code",
   "execution_count": null,
   "metadata": {},
   "outputs": [],
   "source": [
    "#encoding=utf-8\n",
    "class IPhone(object):\n",
    "    # 蘋果\n",
    "    def __repr__(self):\n",
    "        return \"IPhone\"\n",
    "class Huawei(object):\n",
    "    # 華為\n",
    "    def __repr__(self):\n",
    "        return \"Huawei\"\n",
    "#encoding=utf-8\n",
    "class IMAC(object):\n",
    "    # 蘋果\n",
    "    def __repr__(self):\n",
    "        return \"IMAC\"\n",
    "class HuaweiMAC(object):\n",
    "    # 華為\n",
    "    def __repr__(self):\n",
    "        return \"HuaweiMAC\"\n",
    "\n",
    "if __name__ == '__main__':\n",
    "    print(IPhone())\n",
    "    print(Huawei())\n",
    "    print(IMAC())\n",
    "    print(HuaweiMAC())"
   ]
  },
  {
   "cell_type": "markdown",
   "metadata": {},
   "source": [
    "假設我麼有四個產品分別是：\n",
    "\n",
    "（蘋果手機，IPhone）,（蘋果電腦，IMAC）,（華為手機，Huawei）,（華為電腦，HuaweiMAC）四個類\n",
    "\n",
    "在主函數中實例化四個類對象\n",
    "\n",
    "運行主函數結果：\n",
    "\n",
    "IPhone\n",
    "\n",
    "IMAC\n",
    "\n",
    "Huawei\n",
    "\n",
    "HuaweiMAC"
   ]
  },
  {
   "cell_type": "code",
   "execution_count": null,
   "metadata": {},
   "outputs": [],
   "source": []
  },
  {
   "cell_type": "markdown",
   "metadata": {},
   "source": [
    "> https://subscription.packtpub.com/book/application_development/9781785888038/3/ch03lvl1sec25/the-simple-factory-pattern\n",
    "![img simple_0](https://static.packt-cdn.com/products/9781785888038/graphics/B05180_03_01.jpg)"
   ]
  },
  {
   "cell_type": "markdown",
   "metadata": {},
   "source": [
    "### 簡單工廠"
   ]
  },
  {
   "cell_type": "markdown",
   "metadata": {},
   "source": [
    "#### 優缺點\n",
    "\n",
    "> 缺點 : 但在實際使用工廠的過程中，我們會發現新問題：如果我們要新增一個“產品”就需要修改getphone()方法違背了軟體設計中的[開閉原則](https://zh.wikipedia.org/wiki/%E5%BC%80%E9%97%AD%E5%8E%9F%E5%88%99)即在擴展新的類時，盡量不要修改原有代碼。\n",
    "\n",
    "> 優點 : 簡單易懂，適用於需創建的對象較少，不會造成工廠方法中的業務邏輯太過複雜的情況下，而且用戶只關心哪種類型的實例被創建，\n"
   ]
  },
  {
   "cell_type": "code",
   "execution_count": null,
   "metadata": {},
   "outputs": [],
   "source": [
    "from noFactory import IPhone, Huawei\n",
    "\n",
    "class SimplePhoneFactory(object):\n",
    "    @staticmethod\n",
    "    def get_phone(name):\n",
    "        if name == 'iphone':\n",
    "            return IPhone()\n",
    "        elif name == 'huawei':\n",
    "            return Huawei()\n",
    "\n",
    "if __name__ == '__main__':\n",
    "    print(SimplePhoneFactory.get_phone('iphone'))\n",
    "    print(SimplePhoneFactory.get_phone('huawei'))"
   ]
  },
  {
   "cell_type": "markdown",
   "metadata": {},
   "source": [
    "#### 運行主函數結果：\n",
    "\n",
    "IPhone\n",
    "\n",
    "Huawei\n",
    "\n",
    "構造一個“簡單工廠”把所有實例化的過程封裝在裡面。需要什麼直接調工廠裡的方法。\n"
   ]
  },
  {
   "cell_type": "code",
   "execution_count": null,
   "metadata": {},
   "outputs": [],
   "source": []
  },
  {
   "cell_type": "code",
   "execution_count": null,
   "metadata": {},
   "outputs": [],
   "source": []
  },
  {
   "cell_type": "code",
   "execution_count": null,
   "metadata": {},
   "outputs": [],
   "source": [
    "# <tr> \n",
    "#     <td> <img src=\"https://refactoring.guru/images/patterns/diagrams/factory-method/structure-2x.png\" width=\"650\"/> </td> \n",
    "#     <td> <img src=\"https://refactoring.guru/images/patterns/diagrams/factory-method/example-2x.png\" width=\"650\"/> </td> \n",
    "# </tr> "
   ]
  },
  {
   "cell_type": "markdown",
   "metadata": {},
   "source": [
    "<tr> \n",
    "    <td> <img src=\"https://refactoring.guru/images/patterns/diagrams/factory-method/structure-2x.png\" width=\"650\"/> </td> \n",
    "    <td> <img src=\"https://refactoring.guru/images/patterns/diagrams/factory-method/example-2x.png\" width=\"650\"/> </td> \n",
    "</tr> "
   ]
  },
  {
   "cell_type": "markdown",
   "metadata": {},
   "source": [
    "### 工廠方法"
   ]
  },
  {
   "cell_type": "markdown",
   "metadata": {},
   "source": [
    "#### 優缺點\n",
    "\n",
    "> 缺點 : 複雜度提升，代碼的可讀性降低，仍不能完全解決複雜場景\n",
    "\n",
    "> 優點 : 耦合性降低，每個工廠負責生產自己的產品也避免了我們在新增產品時需要修改工廠的代碼，而只要增加相應的工廠即可"
   ]
  },
  {
   "cell_type": "code",
   "execution_count": null,
   "metadata": {},
   "outputs": [],
   "source": [
    "# coding=utf-8\n",
    "import abc\n",
    "# 工廠方法\n",
    "from noFactory import IPhone, Huawei\n",
    " \n",
    "\n",
    "class AbstractFactory(object):\n",
    "    # 抽象的工廠類\n",
    "    __metaclass__ = abc.ABCMeta\n",
    " \n",
    "    # python不同於java没有abstract抽象類關鍵字通過加載abc實現抽象方法\n",
    "    @abc.abstractmethod\n",
    "    def get_phone(self):\n",
    "        pass\n",
    " \n",
    " \n",
    "# 蘋果工廠\n",
    "class IPhoneFactory(AbstractFactory):\n",
    "    def get_phone(self):\n",
    "        return IPhone()\n",
    " \n",
    " \n",
    "# 華為工廠\n",
    "class HuaweiFactory(AbstractFactory):\n",
    "    def get_phone(self):\n",
    "        return Huawei()\n",
    "\n",
    "if __name__ == '__main__':\n",
    "    iphone = IPhoneFactory().get_phone()\n",
    "    huawei = HuaweiFactory().get_phone()\n",
    "    print(iphone)\n",
    "    print(huawei)"
   ]
  },
  {
   "cell_type": "markdown",
   "metadata": {},
   "source": [
    "運行主函數結果：\n",
    "\n",
    "IPhone\n",
    "\n",
    "Huawei\n",
    "\n",
    "我們在簡單工廠的基礎上抽象成不同的工廠，每個工廠對應生成自己的產品，這就是工廠方法。"
   ]
  },
  {
   "cell_type": "code",
   "execution_count": null,
   "metadata": {},
   "outputs": [],
   "source": []
  },
  {
   "cell_type": "code",
   "execution_count": null,
   "metadata": {},
   "outputs": [],
   "source": []
  },
  {
   "cell_type": "markdown",
   "metadata": {},
   "source": [
    "<tr> \n",
    "    <td> <img src=\"https://refactoring.guru/images/patterns/diagrams/abstract-factory/structure-2x.png\" width=\"650\"/> </td> \n",
    "    <td> <img src=\"https://refactoring.guru/images/patterns/diagrams/abstract-factory/example-2x.png\" width=\"650\"/> </td> \n",
    "</tr> "
   ]
  },
  {
   "cell_type": "markdown",
   "metadata": {},
   "source": [
    "### 抽象工廠方法"
   ]
  },
  {
   "cell_type": "markdown",
   "metadata": {},
   "source": [
    "#### 優缺點\n",
    "\n",
    "> 缺點 : 複雜度提升，代碼的可讀性降低\n",
    "\n",
    "> 優點 : 適用於復雜的業務場景"
   ]
  },
  {
   "cell_type": "code",
   "execution_count": null,
   "metadata": {},
   "outputs": [],
   "source": [
    "# coding=utf-8\n",
    "import abc\n",
    " \n",
    "# 工廠方法\n",
    "from noFactory import IPhone, Huawei, IMAC, HuaweiMAC\n",
    " \n",
    "\n",
    "class AbstractFactory(object):\n",
    "    # 抽象的工廠類\n",
    "    __metaclass__ = abc.ABCMeta\n",
    "    # python不同于java没有abstract抽象類關鍵字通過加載abc實現抽象方法\n",
    "    @abc.abstractmethod\n",
    "    def get_phone(self):\n",
    "        pass\n",
    " \n",
    "    @abc.abstractmethod\n",
    "    def get_computer(self):\n",
    "        pass\n",
    " \n",
    " \n",
    "# 蘋果工廠\n",
    "class IPhoneFactory(AbstractFactory):\n",
    "    def get_phone(self):\n",
    "        return IPhone()\n",
    "    def get_computer(self):\n",
    "        return IMAC()\n",
    " \n",
    " \n",
    "# 華為工廠\n",
    "class HuaweiFactory(AbstractFactory):\n",
    "    def get_phone(self):\n",
    "        return Huawei()\n",
    "    def get_computer(self):\n",
    "        return HuaweiMAC()\n",
    "\n",
    "if __name__ == '__main__':\n",
    "    print(IPhoneFactory().get_phone())\n",
    "    print(IPhoneFactory().get_computer())\n",
    "    print(HuaweiFactory().get_phone())\n",
    "    print(HuaweiFactory().get_computer())"
   ]
  },
  {
   "cell_type": "markdown",
   "metadata": {},
   "source": [
    "運行主函數結果：\n",
    "\n",
    "IPhone\n",
    "\n",
    "IMAC\n",
    "\n",
    "Huawei\n",
    "\n",
    "HuaweiMAC\n",
    "\n",
    "當產品增多業務複雜時，例如工廠不僅生產手機還要生產電腦時面對這種業務場景，就需要使用抽象工廠方法"
   ]
  },
  {
   "cell_type": "code",
   "execution_count": null,
   "metadata": {},
   "outputs": [],
   "source": []
  },
  {
   "cell_type": "markdown",
   "metadata": {},
   "source": [
    "---"
   ]
  },
  {
   "cell_type": "code",
   "execution_count": null,
   "metadata": {},
   "outputs": [],
   "source": []
  },
  {
   "cell_type": "markdown",
   "metadata": {},
   "source": [
    "## [設計模式(Python)-簡單工廠，工廠方法和抽象工廠模式](https://blog.csdn.net/huobanjishijian/article/details/79151351)"
   ]
  },
  {
   "cell_type": "markdown",
   "metadata": {},
   "source": [
    "本系列文章是希望將軟件項目中最常見的設計模式用通俗易懂的語言來講解清楚，並通過Python來實現，每個設計模式都是圍繞如下三個問題：\n",
    "\n",
    "1. 為什麼？即為什麼要使用這個設計模式，在使用這個模式之前存在什麼樣的問題？\n",
    "\n",
    "2. 是什麼？通過Python語言來去實現這個設計模式，用於解決為什麼中提到的問題。\n",
    "\n",
    "3. 怎麼用？理解了為什麼我們也就基本了解了什麼情況下使用這個模式，不過在這裡還是會細化使用場景，闡述模式的局限和優缺點。\n",
    "\n",
    "這次的主角是簡單工廠，工廠方法和抽象工廠模式，由於這幾個模式聯繫緊密，有一定的相似性，所以放在一起來講。"
   ]
  },
  {
   "cell_type": "code",
   "execution_count": null,
   "metadata": {},
   "outputs": [],
   "source": []
  },
  {
   "cell_type": "markdown",
   "metadata": {},
   "source": [
    "## 簡單工廠模式"
   ]
  },
  {
   "cell_type": "markdown",
   "metadata": {},
   "source": [
    "### 為什麼"
   ]
  },
  {
   "cell_type": "markdown",
   "metadata": {},
   "source": [
    "工廠模式裡最常舉的例子就是Pizza店的例子，我們就用這個經典的例子來說吧。假設我們開了一個Pizza店，然後我們多種Pizza供顧客選用，如下："
   ]
  },
  {
   "cell_type": "markdown",
   "metadata": {},
   "source": [
    "### <font color=\"red\"> WITHOUT 簡單工廠 </font>"
   ]
  },
  {
   "cell_type": "code",
   "execution_count": 1,
   "metadata": {},
   "outputs": [],
   "source": [
    "class CheesePizza(object):\n",
    "    def __init__(self):\n",
    "        print(\"CheesePizza\")\n",
    "\n",
    "class VegetablePizza(object):\n",
    "    def __init__(self):\n",
    "        print(\"VegetablePizza\")\n",
    "\n",
    "# 可以繼續定義多種類型的Pizza\n",
    "class SeafoodPizza(object):\n",
    "    def __init__(self):\n",
    "        print(\"SeafoodPizza\")\n"
   ]
  },
  {
   "cell_type": "markdown",
   "metadata": {},
   "source": [
    "然後可以定義我們的Pizza店用以生產Pizza"
   ]
  },
  {
   "cell_type": "code",
   "execution_count": 2,
   "metadata": {},
   "outputs": [],
   "source": [
    "class PizzaStore(object):\n",
    "    def order_pizza(self, pizza_type):\n",
    "        # ------------------------------------\n",
    "        if pizza_type == \"cheese\":\n",
    "            self.pizza = CheesePizza()\n",
    "        elif pizza_type == \"vegetable\":\n",
    "            self.pizza = VegetablePizza()\n",
    "        else:\n",
    "            self.pizza = SeafoodPizza()\n",
    "        # -------------------------------------\n",
    "        self.pizza.prepare()\n",
    "        self.pizza.bake()\n",
    "        self.pizza.cut()\n",
    "        self.pizza.box()\n",
    "        return self.pizza"
   ]
  },
  {
   "cell_type": "markdown",
   "metadata": {},
   "source": [
    "這裡問題在於我們的產品（也就是不同種類的Pizza）可能會變化，比如過了段時間會新增幾種類型的Pizza，也會去掉某些不受歡迎的Pizza類型，\n",
    "\n",
    "這個時候我們就需要修改不斷修改order_pizza()中的代碼（橫線包起來的那部分代碼）。\n",
    "\n",
    "而我們的設計原則之一就是將“變化”抽離出來，進行封裝。這就是簡單工廠模式的初衷。"
   ]
  },
  {
   "cell_type": "markdown",
   "metadata": {},
   "source": [
    "### 是什麼\n",
    "\n",
    "簡單工廠模式，就是將創建不同類型實例的代碼抽離出來，封裝成一個工廠類(實際我覺得用一個函數更直接)。\n",
    "\n",
    "這個工廠類就是專門用於生產不同的產品（這裡就是pizza產品）給客戶端（這裡就是order_pizza)。\n",
    "\n",
    "客戶不需要知道怎麼生產出這些pizza，客戶只需要告訴工廠，我需要cheese pizza還是其它類型的pizza就可以了，然後工廠會去返回給客戶相應的pizza。\n",
    "\n",
    "代碼如下："
   ]
  },
  {
   "cell_type": "markdown",
   "metadata": {},
   "source": [
    "### <font color=\"#40E778\"> WITH 簡單工廠 </font>"
   ]
  },
  {
   "cell_type": "markdown",
   "metadata": {},
   "source": [
    "> https://subscription.packtpub.com/book/application_development/9781785888038/3/ch03lvl1sec25/the-simple-factory-pattern\n",
    "![img simple_0](https://static.packt-cdn.com/products/9781785888038/graphics/B05180_03_01.jpg)"
   ]
  },
  {
   "cell_type": "code",
   "execution_count": 5,
   "metadata": {},
   "outputs": [
    {
     "name": "stdout",
     "output_type": "stream",
     "text": [
      "CheesePizza\n",
      "VegetablePizza\n",
      "SeafoodPizza\n"
     ]
    }
   ],
   "source": [
    "class SimpleFactoryMethod(object):\n",
    "    @staticmethod\n",
    "    def create_pizza(pizza_type):\n",
    "        '''Simple Factory Method'''\n",
    "        \n",
    "        # pizzas = dict(cheese=CheesePizza, vegetable=VegetablePizza, seafood=SeafoodPizza)\n",
    "        pizzas = {\"cheese\" : CheesePizza, \n",
    "                  \"vegetable\" : VegetablePizza, \n",
    "                  \"seafood\" : SeafoodPizza}\n",
    "        \n",
    "        return pizzas[pizza_type]()\n",
    "\n",
    "if __name__ == '__main__':\n",
    "    SimpleFactoryMethod().create_pizza(\"cheese\")\n",
    "    SimpleFactoryMethod().create_pizza(\"vegetable\")\n",
    "    SimpleFactoryMethod().create_pizza(\"seafood\")"
   ]
  },
  {
   "cell_type": "markdown",
   "metadata": {},
   "source": [
    "原來的PizzaStore則更改為："
   ]
  },
  {
   "cell_type": "code",
   "execution_count": 6,
   "metadata": {},
   "outputs": [
    {
     "name": "stdout",
     "output_type": "stream",
     "text": [
      "CheesePizza\n"
     ]
    },
    {
     "data": {
      "text/plain": [
       "<__main__.CheesePizza at 0x10de3b588>"
      ]
     },
     "execution_count": 6,
     "metadata": {},
     "output_type": "execute_result"
    }
   ],
   "source": [
    "class PizzaStore(object):\n",
    "    def order_pizza(self, pizza_type):\n",
    "        # ------------------------------------\n",
    "        self.pizza = SimpleFactoryMethod().create_pizza(pizza_type)\n",
    "        # -------------------------------------\n",
    "        self.pizza.prepare()\n",
    "        self.pizza.bake()\n",
    "        self.pizza.cut()\n",
    "        self.pizza.box()\n",
    "        return self.pizza\n",
    "\n",
    "PizzaStore().order_pizza(\"cheese\")"
   ]
  },
  {
   "cell_type": "markdown",
   "metadata": {},
   "source": [
    "### 怎麼用\n",
    "\n",
    "看到上邊的代碼，很多同學可能會疑惑，這個就是代碼轉移到別處而已，似乎沒有什麼卵用啊。\n",
    "\n",
    "其實簡單工廠模式除了將創建實例的代碼進行了封裝，使得代碼更加清晰以外，\n",
    "\n",
    "另一個好處就是，當有其它客戶需要創建同樣的實例時就可以直接調用工廠的create_pizza()了。\n",
    "\n",
    "比如我們有了一個送外賣的類："
   ]
  },
  {
   "cell_type": "code",
   "execution_count": null,
   "metadata": {},
   "outputs": [],
   "source": [
    "class PizzaTakeOut(object):\n",
    "    def order_pizza(self, pizza_type):\n",
    "        # ------------------------------------\n",
    "        self.pizza = SimplePizzaFactory.create_pizza(pizza_type)\n",
    "        # -------------------------------------\n",
    "        ..."
   ]
  },
  {
   "cell_type": "markdown",
   "metadata": {},
   "source": [
    "在這種情況下，如果新增或者刪除某一個產品（Pizza類）我們只需要簡單地更新一處代碼（即簡單工廠中的創建實例的代碼）就可以了。\n",
    "\n",
    "再一個好處是，一個大的系統往往是分不同的層次和模塊進行分別開發的，當開發客戶端（這裡就是指PizzaStore）程序員和開發底層產品（這裡指各種Pizza）的程序員不是同一個人就會非常有用，\n",
    "\n",
    "因為開發客戶端的程序員通過工廠創建對象時就不需要關注到底怎麼創建出不同的產品的，他只需要將客戶的需求（pizza_type)傳遞給工廠就可以了。"
   ]
  },
  {
   "cell_type": "code",
   "execution_count": null,
   "metadata": {},
   "outputs": [],
   "source": []
  },
  {
   "cell_type": "markdown",
   "metadata": {},
   "source": [
    "## 工廠方法和抽象工廠模式"
   ]
  },
  {
   "cell_type": "markdown",
   "metadata": {},
   "source": [
    "## Factory Method"
   ]
  },
  {
   "cell_type": "markdown",
   "metadata": {},
   "source": [
    "<tr> \n",
    "    <td> <img src=\"https://refactoring.guru/images/patterns/diagrams/factory-method/structure-2x.png\" width=\"650\"/> </td> \n",
    "    <td> <img src=\"https://refactoring.guru/images/patterns/diagrams/factory-method/example-2x.png\" width=\"650\"/> </td> \n",
    "</tr> "
   ]
  },
  {
   "cell_type": "code",
   "execution_count": null,
   "metadata": {},
   "outputs": [],
   "source": []
  },
  {
   "cell_type": "markdown",
   "metadata": {},
   "source": [
    "## Abstract Factory"
   ]
  },
  {
   "cell_type": "markdown",
   "metadata": {},
   "source": [
    "<tr> \n",
    "    <td> <img src=\"https://refactoring.guru/images/patterns/diagrams/abstract-factory/structure-2x.png\" width=\"650\"/> </td> \n",
    "    <td> <img src=\"https://refactoring.guru/images/patterns/diagrams/abstract-factory/example-2x.png\" width=\"650\"/> </td> \n",
    "</tr> "
   ]
  },
  {
   "cell_type": "markdown",
   "metadata": {},
   "source": [
    "### 為什麼？\n",
    "\n",
    "在簡單工廠中我們一般情況下只是創建了一種產品，但是對於一組產品的創建，往往很難應付，\n",
    "\n",
    "想想下如果我們要創建一組關於汽車的零部件產品，如果用簡單工廠模式，代碼可能如下："
   ]
  },
  {
   "cell_type": "code",
   "execution_count": null,
   "metadata": {},
   "outputs": [],
   "source": [
    "class SimpleCarPartsFactory(object):\n",
    "    def __init__(self, car_type):\n",
    "        self.car_type = car_type\n",
    " \n",
    "    def create_engines(self):\n",
    "        engines = dict(small=SmallEngines, medium=MediumEngines, big=BigEngines)\n",
    "        return engines[self.car_type]()\n",
    "    def create_wheels(self):\n",
    "        wheels = dict(small=SmallWheeles, medium=MediumWheeles, big=BigWheeles)\n",
    "        return wheels[self.car_type]()\n",
    " \n",
    "    ..."
   ]
  },
  {
   "cell_type": "markdown",
   "metadata": {},
   "source": [
    "這個代碼雖然也可以勉強使用，但是試想一下，如果我再添加一個superbig類型的汽車，那麼是不是就需要修改所有的create方法？\n",
    "\n",
    "如果修改某個組件類，或者刪除某一種類型的組件是否都需要去修改這個類呢？如果這些都是你一個人來改呢？。。。。。。\n",
    "\n",
    "好吧，這就是我們為什麼需要工廠方法和抽象工廠的原因。"
   ]
  },
  {
   "cell_type": "markdown",
   "metadata": {},
   "source": [
    "### 是什麼\n",
    "\n",
    "首先來說下什麼是工廠方法，工廠方法就是將客戶端程序抽像出一個父類，然後在子類中實現創建產品的方法，這個方法就是工廠方法"
   ]
  },
  {
   "cell_type": "code",
   "execution_count": null,
   "metadata": {},
   "outputs": [],
   "source": [
    "class PizzaStore(object):  # 客戶端程序抽象出父類\n",
    "    def order_pizza(self, pizza_type):\n",
    "        # ------------------------------------\n",
    "        self.pizza = self.create_pizza(pizza_type)\n",
    "        # -------------------------------------\n",
    "        self.pizza.prepare()\n",
    "        self.pizza.bake()\n",
    "        self.pizza.cut()\n",
    "        self.pizza.box()\n",
    "        return self.pizza\n",
    " \n",
    "    def create_pizza(self, pizza_type):  #抽象的工廠方法\n",
    "        pass\n",
    "\n",
    "\n",
    "class BeijingPizzaStore(PizzaStore):  # 客戶端程序的子類\n",
    "    def create_pizza(self, pizza_type):  # 具體的工廠方法\n",
    "        pizzas = dict(cheese=BeijingCheesePizza, vegetable=BeijingVegetablePizza, seafood=BeijingSeafoodPizza)  # 不同的子類可能使用不同的產品\n",
    "        return pizzas[pizza_type]()\n",
    "\n",
    "class ShanghaiPizzaStore(PizzaStore):\n",
    "    def create_pizza(self, pizza_type):\n",
    "        pizzas = dict(cheese=ShanghaiCheesePizza, vegetable=ShanghaiVegetablePizza, seafood=ShanghaiSeafoodPizza)\n",
    "        return pizzas[pizza_type]()"
   ]
  },
  {
   "cell_type": "markdown",
   "metadata": {},
   "source": [
    "這裡如果我們用簡單工廠模式去實現的話，就要給create方法多傳遞一個地區的參數（如：\"beijing\")，然後在方法中要做兩次條件判斷（地區和pizza類型），這樣做就有點不太優雅了。\n",
    "\n",
    "不論怎麼樣，我們現在已經了解了什麼是工廠方法模式，\n",
    "\n",
    "那麼現在要看另一個設計模式-抽象工廠模式，這個模式中實際使用了工廠方法模式。而抽象工廠模式才是真正解決了我們之前說的一組產品的問題。\n",
    "\n",
    "使用抽象工廠來實現汽車組件的實例生產："
   ]
  },
  {
   "cell_type": "code",
   "execution_count": null,
   "metadata": {},
   "outputs": [],
   "source": [
    "class AbstractCarPartsFactory(object):    #Python中這個抽象類甚至可以省略，但是为了表达清晰，还是创建了這個父類\n",
    "    def create_engine(self):\n",
    "        passs\n",
    "    def create_wheels(self):\n",
    "        pass\n",
    "    ...\n",
    "\n",
    "\n",
    "class SmallCarPartsFactory(AbstractCarPartsFactory): #不同類型的汽車工廠維護自身的實例創建\n",
    "    def create_engine(self):  #具體的工廠方法\n",
    "        return SmallEngine()\n",
    "    def create_wheels(self):\n",
    "        return SmallWheels()\n",
    "    ...\n",
    "\n",
    "class MediumCarPartsFactory(AbstractCarPartsFactory):\n",
    "    def create_engine(self):\n",
    "        return SmallEngine()\n",
    "    def create_wheels(self):\n",
    "        return SmallWheels()\n",
    "    ...\n",
    "\n",
    "..."
   ]
  },
  {
   "cell_type": "markdown",
   "metadata": {},
   "source": [
    "使用時如下："
   ]
  },
  {
   "cell_type": "code",
   "execution_count": null,
   "metadata": {},
   "outputs": [],
   "source": [
    "class CarFactory(object):\n",
    "    def create_car(self, car_type):\n",
    "        car_factorys = dict(\n",
    "            small=SmallCarPartsFactory, medium=MediumCarPartsFactory, \n",
    "            big=BigCarPartsFactory)\n",
    "        self.carparts_factory = car_factorys[car_type]()\n",
    " \n",
    "        self.prepare_parts():\n",
    "            self.engine = self.cartparts_factory.create_engine()\n",
    "            self.wheels = self.cartparts_factory.create_wheels()\n",
    "            ...\n",
    "        self.compose_parts()\n",
    "        self.painting()\n",
    "        ..."
   ]
  },
  {
   "cell_type": "markdown",
   "metadata": {},
   "source": [
    "由以上例子可以看出我們首先將生產一組產品的工廠抽象成一個工廠類(即，AbstractCarPartsFactory)，這正是抽象工廠這個名字的由來。\n",
    "\n",
    "隨後我們通過不同子類工廠來實現具體產品的實例化，在子類中實現產品實例化，是不是聽著耳熟，對，這裡正是利用了工廠方法模式，所以抽象工廠模式利用了工廠方法模式，但它們卻是不同的模式，這裡註意區分。\n",
    "\n",
    "這時，如果我們想增加一個新的汽車類型，那麼只需要添加一個子類即可，是不是很輕鬆？"
   ]
  },
  {
   "cell_type": "markdown",
   "metadata": {},
   "source": [
    "### 怎麼用\n",
    "\n",
    "總結下，所謂工廠就是用於生產產品(也就是創建實例)，當我們只有一種產品時我們其實是不需要工廠的，只有在有多種類型的產品的時候才需要工廠來幫我們選擇特定的類去實例化。\n",
    "\n",
    "一般的簡單使用場景，簡單工廠模式足以應付。當我們需要對一組產品同時初始化，並且每個產品都有多種類型的時候，就需要抽象工廠模式來應付了（個人以為工廠方法模式單獨使用效果並不明顯，但是在抽象工廠模式中卻能最大化發揮價值）。\n",
    "\n",
    "總之，當你有很多產品需要實例化時，考慮下工廠模式吧！"
   ]
  },
  {
   "cell_type": "code",
   "execution_count": null,
   "metadata": {},
   "outputs": [],
   "source": []
  },
  {
   "cell_type": "code",
   "execution_count": null,
   "metadata": {},
   "outputs": [],
   "source": []
  },
  {
   "cell_type": "markdown",
   "metadata": {},
   "source": [
    "---"
   ]
  },
  {
   "cell_type": "markdown",
   "metadata": {},
   "source": [
    "## [Abstract Factory Design Pattern - medium](https://medium.com/design-patterns-with-python/hihih-2ce4b45624d6)"
   ]
  },
  {
   "cell_type": "markdown",
   "metadata": {},
   "source": [
    "## A basic implementation WITHOUT factory pattern"
   ]
  },
  {
   "cell_type": "code",
   "execution_count": 9,
   "metadata": {},
   "outputs": [],
   "source": [
    "# We need to design a Watch OS which runs custom utilities like  \n",
    "# playing music,displaying photos etc using the platforms Default Music Player\n",
    "from abc import ABCMeta as ABC,abstractmethod\n",
    "\n",
    "## Define Product Abstract Classses\n",
    "class MusicPlayer:\n",
    "    __metaclass__ = ABC\n",
    "    def __init__(self):\n",
    "        super(MusicPlayer,self).__init__()\n",
    "    @abstractmethod\n",
    "    def playMusic(self):\n",
    "        pass\n",
    "\n",
    "class PhotoGallery:\n",
    "    __metaclass__=ABC\n",
    "    def __init__(self):\n",
    "        super().__init__()\n",
    "    @abstractmethod\n",
    "    def showPhotos(self):\n",
    "        pass\n",
    "\n",
    "\n",
    "##Define Product Concrete Classes\n",
    "class AppleMusicPlayer(MusicPlayer):\n",
    "    def __init__(self):\n",
    "        super(AppleMusicPlayer,self).__init__();\n",
    "    def playMusic(self,song):\n",
    "        return \"Running \"+song+\" on iTunes\"\n",
    "\n",
    "class AndroidMusicPlayer(MusicPlayer):\n",
    "    def __init__(self):\n",
    "        super(AndroidMusicPlayer,self).__init__();\n",
    "    def playMusic(self,song):\n",
    "        return \"Running \"+song+\" on Google Play Music\"\n",
    "\n",
    "class ApplePhotoViewer(PhotoGallery):\n",
    "    def __init__(self):\n",
    "        super().__init__();\n",
    "    def showPhotos(self,img):\n",
    "        return \"Displaying \"+img+\" on Photos\"\n",
    "\n",
    "class AndroidPhotoViewer(PhotoGallery):\n",
    "    def __init__(self):\n",
    "        super().__init__();\n",
    "    def showPhotos(self,img):\n",
    "        return \"Displaying \"+img+\" on Google Photos\"\n",
    "\n",
    "\n",
    "## The most raw approach\n",
    "class Applications:\n",
    "    'Provides you with UI strings in a given language'\n",
    "    def __init__(self,plat):\n",
    "        self.platform=plat\n",
    "    def getMusicPlayer(self):\n",
    "        music_dict={\"Apple\":AppleMusicPlayer(),\n",
    "                    \"Android\":AndroidMusicPlayer()}\n",
    "        return music_dict[self.platform]\n",
    "\n",
    "    def getPhotoViewer(self):\n",
    "        photo_dict={\"Apple\":ApplePhotoViewer(),\n",
    "                    \"Android\":AndroidPhotoViewer()}\n",
    "        return photo_dict[self.platform]\n",
    "\n",
    "## Now we generate objects for it \n",
    "\n",
    "# watch_apple=Applications(\"Apple\")\n",
    "# music_player=watch_apple.getMusicPlayer()\n",
    "# print(music_player.playMusic(\"Dusk Till Dawn\"))"
   ]
  },
  {
   "cell_type": "code",
   "execution_count": null,
   "metadata": {},
   "outputs": [],
   "source": []
  },
  {
   "cell_type": "markdown",
   "metadata": {},
   "source": [
    "## abstract factory"
   ]
  },
  {
   "cell_type": "code",
   "execution_count": 10,
   "metadata": {},
   "outputs": [
    {
     "name": "stdout",
     "output_type": "stream",
     "text": [
      "Running Cheap Thrills on Google Play Music\n"
     ]
    }
   ],
   "source": [
    "##Using the Factory Design Pattern\n",
    "from abc import ABCMeta as ABC,abstractmethod\n",
    "\n",
    "\n",
    "##Defining the abstract factory class\n",
    "class ApplicationsFactory:\n",
    "    __metaclass__=ABC\n",
    "    def __init__(self):\n",
    "        super(ApplicationsFactory,self)\n",
    "    @abstractmethod\n",
    "    def getMusicPlayer(self):\n",
    "        pass\n",
    "    @abstractmethod\n",
    "    def getPhotoViewer(self):\n",
    "        pass\n",
    "\n",
    "## Defining Concrete Factory Classes \n",
    "class AppleApplicationsFactory(ApplicationsFactory):\n",
    "    def __init__(self):\n",
    "        super(AppleApplicationsFactory,self)\n",
    "    def getMusicPlayer(self):\n",
    "        return AppleMusicPlayer();\n",
    "    def getPhotoViewer(self):\n",
    "        return ApplePhotoViewer()\n",
    "\n",
    "class AndroidApplicationsFactory(ApplicationsFactory):\n",
    "    def __init__(self):\n",
    "        super(AndroidApplicationsFactory,self)\n",
    "    def getMusicPlayer(self):\n",
    "        return AndroidMusicPlayer();\n",
    "    def getPhotoViewer(self):\n",
    "        return AndroidPhotoViewer()\n",
    "\n",
    "def getPlatformFactory(plat):\n",
    "    ## We need a function which returns factory based on which platform we are\n",
    "    factory_dict={\"Android\":AndroidApplicationsFactory(),\n",
    "                  \"Apple\":AppleApplicationsFactory()}\n",
    "    return factory_dict[plat]\n",
    "\n",
    "##Emulating a client for our above built WatchOS API\n",
    "## We need to get the right factory for our platform\n",
    "\n",
    "\n",
    "\n",
    "## First define a platform \n",
    "platform=\"Android\"\n",
    "app_factory=getPlatformFactory(platform)\n",
    "music_player=app_factory.getMusicPlayer()\n",
    "print(music_player.playMusic(\"Cheap Thrills\"))"
   ]
  },
  {
   "cell_type": "markdown",
   "metadata": {},
   "source": [
    "<tr> \n",
    "    <td> <img src=\"https://miro.medium.com/max/1186/1*pnRd81nf3bW0ycR7Tc-gyA.png\" width=\"650\"/> </td> \n",
    "</tr> "
   ]
  },
  {
   "cell_type": "markdown",
   "metadata": {},
   "source": [
    "<tr> \n",
    "    <td> <img src=\"https://refactoring.guru/images/patterns/diagrams/abstract-factory/structure-2x.png\" width=\"650\"/> </td> \n",
    "    <td> <img src=\"https://refactoring.guru/images/patterns/diagrams/abstract-factory/example-2x.png\" width=\"650\"/> </td> \n",
    "</tr> "
   ]
  },
  {
   "cell_type": "code",
   "execution_count": null,
   "metadata": {},
   "outputs": [],
   "source": []
  },
  {
   "cell_type": "markdown",
   "metadata": {},
   "source": [
    "### DAO Factory"
   ]
  },
  {
   "cell_type": "code",
   "execution_count": null,
   "metadata": {},
   "outputs": [],
   "source": []
  }
 ],
 "metadata": {
  "kernelspec": {
   "display_name": "Python 3",
   "language": "python",
   "name": "python3"
  },
  "language_info": {
   "codemirror_mode": {
    "name": "ipython",
    "version": 3
   },
   "file_extension": ".py",
   "mimetype": "text/x-python",
   "name": "python",
   "nbconvert_exporter": "python",
   "pygments_lexer": "ipython3",
   "version": "3.6.5"
  }
 },
 "nbformat": 4,
 "nbformat_minor": 2
}
